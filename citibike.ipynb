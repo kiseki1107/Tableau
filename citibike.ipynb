{
 "cells": [
  {
   "cell_type": "code",
   "execution_count": 1,
   "metadata": {},
   "outputs": [],
   "source": [
    "# Import dependencies\n",
    "import numpy as np\n",
    "import pandas as pd"
   ]
  },
  {
   "cell_type": "code",
   "execution_count": 2,
   "metadata": {},
   "outputs": [
    {
     "name": "stdout",
     "output_type": "stream",
     "text": [
      "<class 'pandas.core.frame.DataFrame'>\n",
      "RangeIndex: 577703 entries, 0 to 577702\n",
      "Data columns (total 15 columns):\n",
      "tripduration               577703 non-null int64\n",
      "starttime                  577703 non-null object\n",
      "stoptime                   577703 non-null object\n",
      "start station id           577703 non-null int64\n",
      "start station name         577703 non-null object\n",
      "start station latitude     577703 non-null float64\n",
      "start station longitude    577703 non-null float64\n",
      "end station id             559644 non-null float64\n",
      "end station name           559644 non-null object\n",
      "end station latitude       559644 non-null float64\n",
      "end station longitude      559644 non-null float64\n",
      "bikeid                     577703 non-null int64\n",
      "usertype                   577703 non-null object\n",
      "birth year                 337382 non-null float64\n",
      "gender                     577703 non-null int64\n",
      "dtypes: float64(6), int64(4), object(5)\n",
      "memory usage: 66.1+ MB\n"
     ]
    }
   ],
   "source": [
    "# Test check original dataset column names to make sure all other csv datasets match\n",
    "citibike_201306 = pd.read_csv(\"citibike-tripdata/201306-citibike-tripdata.csv\")\n",
    "citibike_201306.info()"
   ]
  },
  {
   "cell_type": "code",
   "execution_count": 3,
   "metadata": {},
   "outputs": [],
   "source": [
    "# Create an empty list to append all corrected DataFrames\n",
    "fixed_list = []"
   ]
  },
  {
   "cell_type": "code",
   "execution_count": 4,
   "metadata": {},
   "outputs": [
    {
     "name": "stdout",
     "output_type": "stream",
     "text": [
      "<class 'pandas.core.frame.DataFrame'>\n",
      "RangeIndex: 1573872 entries, 0 to 1573871\n",
      "Data columns (total 15 columns):\n",
      "Trip Duration              1573872 non-null int64\n",
      "Start Time                 1573872 non-null object\n",
      "Stop Time                  1573872 non-null object\n",
      "Start Station ID           1573872 non-null int64\n",
      "Start Station Name         1573872 non-null object\n",
      "Start Station Latitude     1573872 non-null float64\n",
      "Start Station Longitude    1573872 non-null float64\n",
      "End Station ID             1573872 non-null int64\n",
      "End Station Name           1573872 non-null object\n",
      "End Station Latitude       1573872 non-null float64\n",
      "End Station Longitude      1573872 non-null float64\n",
      "Bike ID                    1573872 non-null int64\n",
      "User Type                  1555923 non-null object\n",
      "Birth Year                 1406424 non-null float64\n",
      "Gender                     1573872 non-null int64\n",
      "dtypes: float64(5), int64(5), object(5)\n",
      "memory usage: 180.1+ MB\n"
     ]
    }
   ],
   "source": [
    "# Check abnormal dataset column names to be altered to match original dataset columns\n",
    "citibike_201610 = pd.read_csv(\"citibike-tripdata/201610-citibike-tripdata.csv\")\n",
    "citibike_201610.info()"
   ]
  },
  {
   "cell_type": "code",
   "execution_count": 5,
   "metadata": {},
   "outputs": [
    {
     "name": "stdout",
     "output_type": "stream",
     "text": [
      "<class 'pandas.core.frame.DataFrame'>\n",
      "RangeIndex: 1573872 entries, 0 to 1573871\n",
      "Data columns (total 15 columns):\n",
      "tripduration               1573872 non-null int64\n",
      "starttime                  1573872 non-null object\n",
      "stoptime                   1573872 non-null object\n",
      "Start Station ID           1573872 non-null int64\n",
      "Start Station Name         1573872 non-null object\n",
      "Start Station Latitude     1573872 non-null float64\n",
      "Start Station Longitude    1573872 non-null float64\n",
      "End Station ID             1573872 non-null int64\n",
      "End Station Name           1573872 non-null object\n",
      "End Station Latitude       1573872 non-null float64\n",
      "End Station Longitude      1573872 non-null float64\n",
      "bikeid                     1573872 non-null int64\n",
      "usertype                   1555923 non-null object\n",
      "Birth Year                 1406424 non-null float64\n",
      "Gender                     1573872 non-null int64\n",
      "dtypes: float64(5), int64(5), object(5)\n",
      "memory usage: 180.1+ MB\n"
     ]
    }
   ],
   "source": [
    "# Rename obvious abnormal column names\n",
    "citibike_201610 = citibike_201610.rename(columns={'Trip Duration':'tripduration',\n",
    "                                'Start Time':'starttime',\n",
    "                                'Stop Time':'stoptime',\n",
    "                                'Bike ID':'bikeid',\n",
    "                                'User Type':'usertype'\n",
    "                               })\n",
    "citibike_201610.info()"
   ]
  },
  {
   "cell_type": "code",
   "execution_count": 6,
   "metadata": {},
   "outputs": [
    {
     "name": "stdout",
     "output_type": "stream",
     "text": [
      "<class 'pandas.core.frame.DataFrame'>\n",
      "RangeIndex: 1573872 entries, 0 to 1573871\n",
      "Data columns (total 15 columns):\n",
      "tripduration               1573872 non-null int64\n",
      "starttime                  1573872 non-null object\n",
      "stoptime                   1573872 non-null object\n",
      "Start Station ID           1573872 non-null int64\n",
      "Start Station Name         1573872 non-null object\n",
      "Start Station Latitude     1573872 non-null float64\n",
      "Start Station Longitude    1573872 non-null float64\n",
      "End Station ID             1573872 non-null int64\n",
      "End Station Name           1573872 non-null object\n",
      "End Station Latitude       1573872 non-null float64\n",
      "End Station Longitude      1573872 non-null float64\n",
      "bikeid                     1573872 non-null int64\n",
      "usertype                   1555923 non-null object\n",
      "Birth Year                 1406424 non-null object\n",
      "Gender                     1573872 non-null int64\n",
      "dtypes: float64(4), int64(5), object(6)\n",
      "memory usage: 180.1+ MB\n"
     ]
    }
   ],
   "source": [
    "# citibike_201610[\"Birth Year\"].dropna(inplace=True)\n",
    "citibike_201610[\"Birth Year\"] = citibike_201610[\"Birth Year\"].fillna(0)\n",
    "citibike_201610[\"Birth Year\"] = citibike_201610[\"Birth Year\"].astype(int).astype(str)\n",
    "citibike_201610[\"Birth Year\"] =citibike_201610[\"Birth Year\"].replace('0', np.nan)\n",
    "citibike_201610.info()"
   ]
  },
  {
   "cell_type": "code",
   "execution_count": 7,
   "metadata": {},
   "outputs": [
    {
     "name": "stdout",
     "output_type": "stream",
     "text": [
      "<class 'pandas.core.frame.DataFrame'>\n",
      "RangeIndex: 1573872 entries, 0 to 1573871\n",
      "Data columns (total 15 columns):\n",
      "tripduration               1573872 non-null int64\n",
      "starttime                  1573872 non-null object\n",
      "stoptime                   1573872 non-null object\n",
      "start station id           1573872 non-null int64\n",
      "start station name         1573872 non-null object\n",
      "start station latitude     1573872 non-null float64\n",
      "start station longitude    1573872 non-null float64\n",
      "end station id             1573872 non-null int64\n",
      "end station name           1573872 non-null object\n",
      "end station latitude       1573872 non-null float64\n",
      "end station longitude      1573872 non-null float64\n",
      "bikeid                     1573872 non-null int64\n",
      "usertype                   1555923 non-null object\n",
      "birth year                 1406424 non-null object\n",
      "gender                     1573872 non-null int64\n",
      "dtypes: float64(4), int64(5), object(6)\n",
      "memory usage: 180.1+ MB\n"
     ]
    }
   ],
   "source": [
    "# Lower-case all column names to match original dataset\n",
    "citibike_201610.columns = citibike_201610.columns.str.lower()\n",
    "citibike_201610.info()\n",
    "\n",
    "# Append renamed DataFrame to list\n",
    "fixed_list.append(citibike_201610)"
   ]
  },
  {
   "cell_type": "code",
   "execution_count": 8,
   "metadata": {},
   "outputs": [
    {
     "name": "stdout",
     "output_type": "stream",
     "text": [
      "<class 'pandas.core.frame.DataFrame'>\n",
      "RangeIndex: 1196942 entries, 0 to 1196941\n",
      "Data columns (total 15 columns):\n",
      "Trip Duration              1196942 non-null int64\n",
      "Start Time                 1196942 non-null object\n",
      "Stop Time                  1196942 non-null object\n",
      "Start Station ID           1196942 non-null int64\n",
      "Start Station Name         1196942 non-null object\n",
      "Start Station Latitude     1196942 non-null float64\n",
      "Start Station Longitude    1196942 non-null float64\n",
      "End Station ID             1196942 non-null int64\n",
      "End Station Name           1196942 non-null object\n",
      "End Station Latitude       1196942 non-null float64\n",
      "End Station Longitude      1196942 non-null float64\n",
      "Bike ID                    1196942 non-null int64\n",
      "User Type                  1184408 non-null object\n",
      "Birth Year                 1100576 non-null float64\n",
      "Gender                     1196942 non-null int64\n",
      "dtypes: float64(5), int64(5), object(5)\n",
      "memory usage: 137.0+ MB\n"
     ]
    }
   ],
   "source": [
    "# Repeat column name changes for citbike datasets from 201611 to 201703\n",
    "citibike_201611 = pd.read_csv(\"citibike-tripdata/201611-citibike-tripdata.csv\")\n",
    "citibike_201611.info()"
   ]
  },
  {
   "cell_type": "code",
   "execution_count": 9,
   "metadata": {},
   "outputs": [
    {
     "name": "stdout",
     "output_type": "stream",
     "text": [
      "<class 'pandas.core.frame.DataFrame'>\n",
      "RangeIndex: 1196942 entries, 0 to 1196941\n",
      "Data columns (total 15 columns):\n",
      "tripduration               1196942 non-null int64\n",
      "starttime                  1196942 non-null object\n",
      "stoptime                   1196942 non-null object\n",
      "start station id           1196942 non-null int64\n",
      "start station name         1196942 non-null object\n",
      "start station latitude     1196942 non-null float64\n",
      "start station longitude    1196942 non-null float64\n",
      "end station id             1196942 non-null int64\n",
      "end station name           1196942 non-null object\n",
      "end station latitude       1196942 non-null float64\n",
      "end station longitude      1196942 non-null float64\n",
      "bikeid                     1196942 non-null int64\n",
      "usertype                   1184408 non-null object\n",
      "birth year                 1100576 non-null object\n",
      "gender                     1196942 non-null int64\n",
      "dtypes: float64(4), int64(5), object(6)\n",
      "memory usage: 137.0+ MB\n"
     ]
    }
   ],
   "source": [
    "citibike_201611 = citibike_201611.rename(columns={'Trip Duration':'tripduration',\n",
    "                                'Start Time':'starttime',\n",
    "                                'Stop Time':'stoptime',\n",
    "                                'Bike ID':'bikeid',\n",
    "                                'User Type':'usertype'\n",
    "                               })\n",
    "\n",
    "citibike_201611[\"Birth Year\"] = citibike_201611[\"Birth Year\"].fillna(0)\n",
    "citibike_201611[\"Birth Year\"] = citibike_201611[\"Birth Year\"].astype(int).astype(str)\n",
    "citibike_201611[\"Birth Year\"] =citibike_201611[\"Birth Year\"].replace('0', np.nan)\n",
    "citibike_201611.columns = citibike_201610.columns.str.lower()\n",
    "\n",
    "citibike_201611.info()\n",
    "\n",
    "# Append renamed DataFrame to list\n",
    "fixed_list.append(citibike_201611)"
   ]
  },
  {
   "cell_type": "code",
   "execution_count": 10,
   "metadata": {},
   "outputs": [
    {
     "name": "stdout",
     "output_type": "stream",
     "text": [
      "<class 'pandas.core.frame.DataFrame'>\n",
      "RangeIndex: 812192 entries, 0 to 812191\n",
      "Data columns (total 15 columns):\n",
      "Trip Duration              812192 non-null int64\n",
      "Start Time                 812192 non-null object\n",
      "Stop Time                  812192 non-null object\n",
      "Start Station ID           812192 non-null int64\n",
      "Start Station Name         812192 non-null object\n",
      "Start Station Latitude     812192 non-null float64\n",
      "Start Station Longitude    812192 non-null float64\n",
      "End Station ID             812192 non-null int64\n",
      "End Station Name           812192 non-null object\n",
      "End Station Latitude       812192 non-null float64\n",
      "End Station Longitude      812192 non-null float64\n",
      "Bike ID                    812192 non-null int64\n",
      "User Type                  806804 non-null object\n",
      "Birth Year                 772488 non-null float64\n",
      "Gender                     812192 non-null int64\n",
      "dtypes: float64(5), int64(5), object(5)\n",
      "memory usage: 92.9+ MB\n"
     ]
    }
   ],
   "source": [
    "citibike_201612 = pd.read_csv(\"citibike-tripdata/201612-citibike-tripdata.csv\")\n",
    "citibike_201612.info()"
   ]
  },
  {
   "cell_type": "code",
   "execution_count": 11,
   "metadata": {},
   "outputs": [
    {
     "name": "stdout",
     "output_type": "stream",
     "text": [
      "<class 'pandas.core.frame.DataFrame'>\n",
      "RangeIndex: 812192 entries, 0 to 812191\n",
      "Data columns (total 15 columns):\n",
      "tripduration               812192 non-null int64\n",
      "starttime                  812192 non-null object\n",
      "stoptime                   812192 non-null object\n",
      "start station id           812192 non-null int64\n",
      "start station name         812192 non-null object\n",
      "start station latitude     812192 non-null float64\n",
      "start station longitude    812192 non-null float64\n",
      "end station id             812192 non-null int64\n",
      "end station name           812192 non-null object\n",
      "end station latitude       812192 non-null float64\n",
      "end station longitude      812192 non-null float64\n",
      "bikeid                     812192 non-null int64\n",
      "usertype                   806804 non-null object\n",
      "birth year                 772488 non-null object\n",
      "gender                     812192 non-null int64\n",
      "dtypes: float64(4), int64(5), object(6)\n",
      "memory usage: 92.9+ MB\n"
     ]
    }
   ],
   "source": [
    "citibike_201612 = citibike_201612.rename(columns={'Trip Duration':'tripduration',\n",
    "                                'Start Time':'starttime',\n",
    "                                'Stop Time':'stoptime',\n",
    "                                'Bike ID':'bikeid',\n",
    "                                'User Type':'usertype'\n",
    "                               })\n",
    "\n",
    "citibike_201612[\"Birth Year\"] = citibike_201612[\"Birth Year\"].fillna(0)\n",
    "citibike_201612[\"Birth Year\"] = citibike_201612[\"Birth Year\"].astype(int).astype(str)\n",
    "citibike_201612[\"Birth Year\"] =citibike_201612[\"Birth Year\"].replace('0', np.nan)\n",
    "citibike_201612.columns = citibike_201612.columns.str.lower()\n",
    "citibike_201612.info()\n",
    "\n",
    "# Append renamed DataFrame to list\n",
    "fixed_list.append(citibike_201612)"
   ]
  },
  {
   "cell_type": "code",
   "execution_count": 12,
   "metadata": {},
   "outputs": [
    {
     "name": "stdout",
     "output_type": "stream",
     "text": [
      "<class 'pandas.core.frame.DataFrame'>\n",
      "RangeIndex: 726676 entries, 0 to 726675\n",
      "Data columns (total 15 columns):\n",
      "Trip Duration              726676 non-null int64\n",
      "Start Time                 726676 non-null object\n",
      "Stop Time                  726676 non-null object\n",
      "Start Station ID           726676 non-null int64\n",
      "Start Station Name         726676 non-null object\n",
      "Start Station Latitude     726676 non-null float64\n",
      "Start Station Longitude    726676 non-null float64\n",
      "End Station ID             726676 non-null int64\n",
      "End Station Name           726676 non-null object\n",
      "End Station Latitude       726676 non-null float64\n",
      "End Station Longitude      726676 non-null float64\n",
      "Bike ID                    726676 non-null int64\n",
      "User Type                  723483 non-null object\n",
      "Birth Year                 697600 non-null float64\n",
      "Gender                     726676 non-null int64\n",
      "dtypes: float64(5), int64(5), object(5)\n",
      "memory usage: 83.2+ MB\n"
     ]
    }
   ],
   "source": [
    "citibike_201701 = pd.read_csv(\"citibike-tripdata/201701-citibike-tripdata.csv\")\n",
    "citibike_201701.info()"
   ]
  },
  {
   "cell_type": "code",
   "execution_count": 13,
   "metadata": {},
   "outputs": [
    {
     "name": "stdout",
     "output_type": "stream",
     "text": [
      "<class 'pandas.core.frame.DataFrame'>\n",
      "RangeIndex: 726676 entries, 0 to 726675\n",
      "Data columns (total 15 columns):\n",
      "tripduration               726676 non-null int64\n",
      "starttime                  726676 non-null object\n",
      "stoptime                   726676 non-null object\n",
      "start station id           726676 non-null int64\n",
      "start station name         726676 non-null object\n",
      "start station latitude     726676 non-null float64\n",
      "start station longitude    726676 non-null float64\n",
      "end station id             726676 non-null int64\n",
      "end station name           726676 non-null object\n",
      "end station latitude       726676 non-null float64\n",
      "end station longitude      726676 non-null float64\n",
      "bikeid                     726676 non-null int64\n",
      "usertype                   723483 non-null object\n",
      "birth year                 697600 non-null object\n",
      "gender                     726676 non-null int64\n",
      "dtypes: float64(4), int64(5), object(6)\n",
      "memory usage: 83.2+ MB\n"
     ]
    }
   ],
   "source": [
    "citibike_201701 = citibike_201701.rename(columns={'Trip Duration':'tripduration',\n",
    "                                'Start Time':'starttime',\n",
    "                                'Stop Time':'stoptime',\n",
    "                                'Bike ID':'bikeid',\n",
    "                                'User Type':'usertype'\n",
    "                               })\n",
    "\n",
    "citibike_201701[\"Birth Year\"] = citibike_201701[\"Birth Year\"].fillna(0)\n",
    "citibike_201701[\"Birth Year\"] = citibike_201701[\"Birth Year\"].astype(int).astype(str)\n",
    "citibike_201701[\"Birth Year\"] =citibike_201701[\"Birth Year\"].replace('0', np.nan)\n",
    "citibike_201701.columns = citibike_201701.columns.str.lower()\n",
    "citibike_201701.info()\n",
    "\n",
    "# Append renamed DataFrame to list\n",
    "fixed_list.append(citibike_201701)"
   ]
  },
  {
   "cell_type": "code",
   "execution_count": 14,
   "metadata": {},
   "outputs": [
    {
     "name": "stdout",
     "output_type": "stream",
     "text": [
      "<class 'pandas.core.frame.DataFrame'>\n",
      "RangeIndex: 791647 entries, 0 to 791646\n",
      "Data columns (total 15 columns):\n",
      "Trip Duration              791647 non-null int64\n",
      "Start Time                 791647 non-null object\n",
      "Stop Time                  791647 non-null object\n",
      "Start Station ID           791647 non-null int64\n",
      "Start Station Name         791647 non-null object\n",
      "Start Station Latitude     791647 non-null float64\n",
      "Start Station Longitude    791647 non-null float64\n",
      "End Station ID             791647 non-null int64\n",
      "End Station Name           791647 non-null object\n",
      "End Station Latitude       791647 non-null float64\n",
      "End Station Longitude      791647 non-null float64\n",
      "Bike ID                    791647 non-null int64\n",
      "User Type                  784067 non-null object\n",
      "Birth Year                 742324 non-null float64\n",
      "Gender                     791647 non-null int64\n",
      "dtypes: float64(5), int64(5), object(5)\n",
      "memory usage: 90.6+ MB\n"
     ]
    }
   ],
   "source": [
    "citibike_201702 = pd.read_csv(\"citibike-tripdata/201702-citibike-tripdata.csv\")\n",
    "citibike_201702.info()"
   ]
  },
  {
   "cell_type": "code",
   "execution_count": 15,
   "metadata": {},
   "outputs": [
    {
     "name": "stdout",
     "output_type": "stream",
     "text": [
      "<class 'pandas.core.frame.DataFrame'>\n",
      "RangeIndex: 791647 entries, 0 to 791646\n",
      "Data columns (total 15 columns):\n",
      "tripduration               791647 non-null int64\n",
      "starttime                  791647 non-null object\n",
      "stoptime                   791647 non-null object\n",
      "start station id           791647 non-null int64\n",
      "start station name         791647 non-null object\n",
      "start station latitude     791647 non-null float64\n",
      "start station longitude    791647 non-null float64\n",
      "end station id             791647 non-null int64\n",
      "end station name           791647 non-null object\n",
      "end station latitude       791647 non-null float64\n",
      "end station longitude      791647 non-null float64\n",
      "bikeid                     791647 non-null int64\n",
      "usertype                   784067 non-null object\n",
      "birth year                 742324 non-null object\n",
      "gender                     791647 non-null int64\n",
      "dtypes: float64(4), int64(5), object(6)\n",
      "memory usage: 90.6+ MB\n"
     ]
    }
   ],
   "source": [
    "citibike_201702 = citibike_201702.rename(columns={'Trip Duration':'tripduration',\n",
    "                                'Start Time':'starttime',\n",
    "                                'Stop Time':'stoptime',\n",
    "                                'Bike ID':'bikeid',\n",
    "                                'User Type':'usertype'\n",
    "                               })\n",
    "\n",
    "citibike_201702[\"Birth Year\"] = citibike_201702[\"Birth Year\"].fillna(0)\n",
    "citibike_201702[\"Birth Year\"] = citibike_201702[\"Birth Year\"].astype(int).astype(str)\n",
    "citibike_201702[\"Birth Year\"] =citibike_201702[\"Birth Year\"].replace('0', np.nan)\n",
    "citibike_201702.columns = citibike_201702.columns.str.lower()\n",
    "citibike_201702.info()\n",
    "\n",
    "# Append renamed DataFrame to list\n",
    "fixed_list.append(citibike_201702)"
   ]
  },
  {
   "cell_type": "code",
   "execution_count": 16,
   "metadata": {},
   "outputs": [
    {
     "name": "stdout",
     "output_type": "stream",
     "text": [
      "<class 'pandas.core.frame.DataFrame'>\n",
      "RangeIndex: 727665 entries, 0 to 727664\n",
      "Data columns (total 15 columns):\n",
      "Trip Duration              727665 non-null int64\n",
      "Start Time                 727665 non-null object\n",
      "Stop Time                  727665 non-null object\n",
      "Start Station ID           727665 non-null int64\n",
      "Start Station Name         727665 non-null object\n",
      "Start Station Latitude     727665 non-null float64\n",
      "Start Station Longitude    727665 non-null float64\n",
      "End Station ID             727665 non-null int64\n",
      "End Station Name           727665 non-null object\n",
      "End Station Latitude       727665 non-null float64\n",
      "End Station Longitude      727665 non-null float64\n",
      "Bike ID                    727665 non-null int64\n",
      "User Type                  722529 non-null object\n",
      "Birth Year                 694819 non-null float64\n",
      "Gender                     727665 non-null int64\n",
      "dtypes: float64(5), int64(5), object(5)\n",
      "memory usage: 83.3+ MB\n"
     ]
    }
   ],
   "source": [
    "citibike_201703 = pd.read_csv(\"citibike-tripdata/201703-citibike-tripdata.csv\")\n",
    "citibike_201703.info()"
   ]
  },
  {
   "cell_type": "code",
   "execution_count": 17,
   "metadata": {
    "scrolled": true
   },
   "outputs": [
    {
     "name": "stdout",
     "output_type": "stream",
     "text": [
      "<class 'pandas.core.frame.DataFrame'>\n",
      "RangeIndex: 727665 entries, 0 to 727664\n",
      "Data columns (total 15 columns):\n",
      "tripduration               727665 non-null int64\n",
      "starttime                  727665 non-null object\n",
      "stoptime                   727665 non-null object\n",
      "start station id           727665 non-null int64\n",
      "start station name         727665 non-null object\n",
      "start station latitude     727665 non-null float64\n",
      "start station longitude    727665 non-null float64\n",
      "end station id             727665 non-null int64\n",
      "end station name           727665 non-null object\n",
      "end station latitude       727665 non-null float64\n",
      "end station longitude      727665 non-null float64\n",
      "bikeid                     727665 non-null int64\n",
      "usertype                   722529 non-null object\n",
      "birth year                 694819 non-null object\n",
      "gender                     727665 non-null int64\n",
      "dtypes: float64(4), int64(5), object(6)\n",
      "memory usage: 83.3+ MB\n"
     ]
    }
   ],
   "source": [
    "citibike_201703 = citibike_201703.rename(columns={'Trip Duration':'tripduration',\n",
    "                                'Start Time':'starttime',\n",
    "                                'Stop Time':'stoptime',\n",
    "                                'Bike ID':'bikeid',\n",
    "                                'User Type':'usertype'\n",
    "                               })\n",
    "\n",
    "citibike_201703[\"Birth Year\"] = citibike_201703[\"Birth Year\"].fillna(0)\n",
    "citibike_201703[\"Birth Year\"] = citibike_201703[\"Birth Year\"].astype(int).astype(str)\n",
    "citibike_201703[\"Birth Year\"] =citibike_201703[\"Birth Year\"].replace('0', np.nan)\n",
    "citibike_201703.columns = citibike_201703.columns.str.lower()\n",
    "citibike_201703.info()\n",
    "\n",
    "# Append renamed DataFrame to list\n",
    "fixed_list.append(citibike_201703)"
   ]
  },
  {
   "cell_type": "code",
   "execution_count": 18,
   "metadata": {},
   "outputs": [],
   "source": [
    "citibike_201610.to_csv('201610-citibike-tripdata_fixed.csv')\n",
    "citibike_201611.to_csv('201611-citibike-tripdata_fixed.csv')\n",
    "citibike_201612.to_csv('201612-citibike-tripdata_fixed.csv')\n",
    "citibike_201701.to_csv('201701-citibike-tripdata_fixed.csv')\n",
    "citibike_201702.to_csv('201702-citibike-tripdata_fixed.csv')\n",
    "citibike_201703.to_csv('201703-citibike-tripdata_fixed.csv')"
   ]
  },
  {
   "cell_type": "code",
   "execution_count": 19,
   "metadata": {},
   "outputs": [],
   "source": [
    "# for i in fixed_list:\n",
    "#     fixed_list[i].to_csv(fixed_list[i] + '-citibike-tripdata_fixed.csv')\n",
    "    "
   ]
  },
  {
   "cell_type": "code",
   "execution_count": null,
   "metadata": {},
   "outputs": [],
   "source": []
  }
 ],
 "metadata": {
  "kernelspec": {
   "display_name": "Python 3",
   "language": "python",
   "name": "python3"
  },
  "language_info": {
   "codemirror_mode": {
    "name": "ipython",
    "version": 3
   },
   "file_extension": ".py",
   "mimetype": "text/x-python",
   "name": "python",
   "nbconvert_exporter": "python",
   "pygments_lexer": "ipython3",
   "version": "3.7.0"
  }
 },
 "nbformat": 4,
 "nbformat_minor": 2
}
